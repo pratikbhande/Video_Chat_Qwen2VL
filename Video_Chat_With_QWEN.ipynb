{
  "nbformat": 4,
  "nbformat_minor": 0,
  "metadata": {
    "colab": {
      "provenance": [],
      "gpuType": "T4"
    },
    "kernelspec": {
      "name": "python3",
      "display_name": "Python 3"
    },
    "language_info": {
      "name": "python"
    },
    "accelerator": "GPU",
    "widgets": {
      "application/vnd.jupyter.widget-state+json": {
        "580ce5ff485d4ef786a14ee373eee741": {
          "model_module": "@jupyter-widgets/controls",
          "model_name": "HBoxModel",
          "model_module_version": "1.5.0",
          "state": {
            "_dom_classes": [],
            "_model_module": "@jupyter-widgets/controls",
            "_model_module_version": "1.5.0",
            "_model_name": "HBoxModel",
            "_view_count": null,
            "_view_module": "@jupyter-widgets/controls",
            "_view_module_version": "1.5.0",
            "_view_name": "HBoxView",
            "box_style": "",
            "children": [
              "IPY_MODEL_32b836b4285946248570f6972fa3abd6",
              "IPY_MODEL_550b5e9e867e42c4b5c15f7504bac894",
              "IPY_MODEL_34aa288fb8d54e15bfc2f2b4af15aee7"
            ],
            "layout": "IPY_MODEL_2632814af91942218fddd4ef50aac475"
          }
        },
        "32b836b4285946248570f6972fa3abd6": {
          "model_module": "@jupyter-widgets/controls",
          "model_name": "HTMLModel",
          "model_module_version": "1.5.0",
          "state": {
            "_dom_classes": [],
            "_model_module": "@jupyter-widgets/controls",
            "_model_module_version": "1.5.0",
            "_model_name": "HTMLModel",
            "_view_count": null,
            "_view_module": "@jupyter-widgets/controls",
            "_view_module_version": "1.5.0",
            "_view_name": "HTMLView",
            "description": "",
            "description_tooltip": null,
            "layout": "IPY_MODEL_cdb14e37d6ea46f89500b7985f7ac956",
            "placeholder": "​",
            "style": "IPY_MODEL_fda9b4b440be4a96885ee9fa9d598ee4",
            "value": "Loading checkpoint shards: 100%"
          }
        },
        "550b5e9e867e42c4b5c15f7504bac894": {
          "model_module": "@jupyter-widgets/controls",
          "model_name": "FloatProgressModel",
          "model_module_version": "1.5.0",
          "state": {
            "_dom_classes": [],
            "_model_module": "@jupyter-widgets/controls",
            "_model_module_version": "1.5.0",
            "_model_name": "FloatProgressModel",
            "_view_count": null,
            "_view_module": "@jupyter-widgets/controls",
            "_view_module_version": "1.5.0",
            "_view_name": "ProgressView",
            "bar_style": "success",
            "description": "",
            "description_tooltip": null,
            "layout": "IPY_MODEL_616c21a5ac1449bc98234b31e257da4b",
            "max": 2,
            "min": 0,
            "orientation": "horizontal",
            "style": "IPY_MODEL_28b4866cccd744628a3be916ce708fef",
            "value": 2
          }
        },
        "34aa288fb8d54e15bfc2f2b4af15aee7": {
          "model_module": "@jupyter-widgets/controls",
          "model_name": "HTMLModel",
          "model_module_version": "1.5.0",
          "state": {
            "_dom_classes": [],
            "_model_module": "@jupyter-widgets/controls",
            "_model_module_version": "1.5.0",
            "_model_name": "HTMLModel",
            "_view_count": null,
            "_view_module": "@jupyter-widgets/controls",
            "_view_module_version": "1.5.0",
            "_view_name": "HTMLView",
            "description": "",
            "description_tooltip": null,
            "layout": "IPY_MODEL_83656042373f41299516d0db289bd537",
            "placeholder": "​",
            "style": "IPY_MODEL_dd2b841b2e54451c8f0e31c38fa41622",
            "value": " 2/2 [00:15&lt;00:00,  6.96s/it]"
          }
        },
        "2632814af91942218fddd4ef50aac475": {
          "model_module": "@jupyter-widgets/base",
          "model_name": "LayoutModel",
          "model_module_version": "1.2.0",
          "state": {
            "_model_module": "@jupyter-widgets/base",
            "_model_module_version": "1.2.0",
            "_model_name": "LayoutModel",
            "_view_count": null,
            "_view_module": "@jupyter-widgets/base",
            "_view_module_version": "1.2.0",
            "_view_name": "LayoutView",
            "align_content": null,
            "align_items": null,
            "align_self": null,
            "border": null,
            "bottom": null,
            "display": null,
            "flex": null,
            "flex_flow": null,
            "grid_area": null,
            "grid_auto_columns": null,
            "grid_auto_flow": null,
            "grid_auto_rows": null,
            "grid_column": null,
            "grid_gap": null,
            "grid_row": null,
            "grid_template_areas": null,
            "grid_template_columns": null,
            "grid_template_rows": null,
            "height": null,
            "justify_content": null,
            "justify_items": null,
            "left": null,
            "margin": null,
            "max_height": null,
            "max_width": null,
            "min_height": null,
            "min_width": null,
            "object_fit": null,
            "object_position": null,
            "order": null,
            "overflow": null,
            "overflow_x": null,
            "overflow_y": null,
            "padding": null,
            "right": null,
            "top": null,
            "visibility": null,
            "width": null
          }
        },
        "cdb14e37d6ea46f89500b7985f7ac956": {
          "model_module": "@jupyter-widgets/base",
          "model_name": "LayoutModel",
          "model_module_version": "1.2.0",
          "state": {
            "_model_module": "@jupyter-widgets/base",
            "_model_module_version": "1.2.0",
            "_model_name": "LayoutModel",
            "_view_count": null,
            "_view_module": "@jupyter-widgets/base",
            "_view_module_version": "1.2.0",
            "_view_name": "LayoutView",
            "align_content": null,
            "align_items": null,
            "align_self": null,
            "border": null,
            "bottom": null,
            "display": null,
            "flex": null,
            "flex_flow": null,
            "grid_area": null,
            "grid_auto_columns": null,
            "grid_auto_flow": null,
            "grid_auto_rows": null,
            "grid_column": null,
            "grid_gap": null,
            "grid_row": null,
            "grid_template_areas": null,
            "grid_template_columns": null,
            "grid_template_rows": null,
            "height": null,
            "justify_content": null,
            "justify_items": null,
            "left": null,
            "margin": null,
            "max_height": null,
            "max_width": null,
            "min_height": null,
            "min_width": null,
            "object_fit": null,
            "object_position": null,
            "order": null,
            "overflow": null,
            "overflow_x": null,
            "overflow_y": null,
            "padding": null,
            "right": null,
            "top": null,
            "visibility": null,
            "width": null
          }
        },
        "fda9b4b440be4a96885ee9fa9d598ee4": {
          "model_module": "@jupyter-widgets/controls",
          "model_name": "DescriptionStyleModel",
          "model_module_version": "1.5.0",
          "state": {
            "_model_module": "@jupyter-widgets/controls",
            "_model_module_version": "1.5.0",
            "_model_name": "DescriptionStyleModel",
            "_view_count": null,
            "_view_module": "@jupyter-widgets/base",
            "_view_module_version": "1.2.0",
            "_view_name": "StyleView",
            "description_width": ""
          }
        },
        "616c21a5ac1449bc98234b31e257da4b": {
          "model_module": "@jupyter-widgets/base",
          "model_name": "LayoutModel",
          "model_module_version": "1.2.0",
          "state": {
            "_model_module": "@jupyter-widgets/base",
            "_model_module_version": "1.2.0",
            "_model_name": "LayoutModel",
            "_view_count": null,
            "_view_module": "@jupyter-widgets/base",
            "_view_module_version": "1.2.0",
            "_view_name": "LayoutView",
            "align_content": null,
            "align_items": null,
            "align_self": null,
            "border": null,
            "bottom": null,
            "display": null,
            "flex": null,
            "flex_flow": null,
            "grid_area": null,
            "grid_auto_columns": null,
            "grid_auto_flow": null,
            "grid_auto_rows": null,
            "grid_column": null,
            "grid_gap": null,
            "grid_row": null,
            "grid_template_areas": null,
            "grid_template_columns": null,
            "grid_template_rows": null,
            "height": null,
            "justify_content": null,
            "justify_items": null,
            "left": null,
            "margin": null,
            "max_height": null,
            "max_width": null,
            "min_height": null,
            "min_width": null,
            "object_fit": null,
            "object_position": null,
            "order": null,
            "overflow": null,
            "overflow_x": null,
            "overflow_y": null,
            "padding": null,
            "right": null,
            "top": null,
            "visibility": null,
            "width": null
          }
        },
        "28b4866cccd744628a3be916ce708fef": {
          "model_module": "@jupyter-widgets/controls",
          "model_name": "ProgressStyleModel",
          "model_module_version": "1.5.0",
          "state": {
            "_model_module": "@jupyter-widgets/controls",
            "_model_module_version": "1.5.0",
            "_model_name": "ProgressStyleModel",
            "_view_count": null,
            "_view_module": "@jupyter-widgets/base",
            "_view_module_version": "1.2.0",
            "_view_name": "StyleView",
            "bar_color": null,
            "description_width": ""
          }
        },
        "83656042373f41299516d0db289bd537": {
          "model_module": "@jupyter-widgets/base",
          "model_name": "LayoutModel",
          "model_module_version": "1.2.0",
          "state": {
            "_model_module": "@jupyter-widgets/base",
            "_model_module_version": "1.2.0",
            "_model_name": "LayoutModel",
            "_view_count": null,
            "_view_module": "@jupyter-widgets/base",
            "_view_module_version": "1.2.0",
            "_view_name": "LayoutView",
            "align_content": null,
            "align_items": null,
            "align_self": null,
            "border": null,
            "bottom": null,
            "display": null,
            "flex": null,
            "flex_flow": null,
            "grid_area": null,
            "grid_auto_columns": null,
            "grid_auto_flow": null,
            "grid_auto_rows": null,
            "grid_column": null,
            "grid_gap": null,
            "grid_row": null,
            "grid_template_areas": null,
            "grid_template_columns": null,
            "grid_template_rows": null,
            "height": null,
            "justify_content": null,
            "justify_items": null,
            "left": null,
            "margin": null,
            "max_height": null,
            "max_width": null,
            "min_height": null,
            "min_width": null,
            "object_fit": null,
            "object_position": null,
            "order": null,
            "overflow": null,
            "overflow_x": null,
            "overflow_y": null,
            "padding": null,
            "right": null,
            "top": null,
            "visibility": null,
            "width": null
          }
        },
        "dd2b841b2e54451c8f0e31c38fa41622": {
          "model_module": "@jupyter-widgets/controls",
          "model_name": "DescriptionStyleModel",
          "model_module_version": "1.5.0",
          "state": {
            "_model_module": "@jupyter-widgets/controls",
            "_model_module_version": "1.5.0",
            "_model_name": "DescriptionStyleModel",
            "_view_count": null,
            "_view_module": "@jupyter-widgets/base",
            "_view_module_version": "1.2.0",
            "_view_name": "StyleView",
            "description_width": ""
          }
        }
      }
    }
  },
  "cells": [
    {
      "cell_type": "code",
      "execution_count": 1,
      "metadata": {
        "colab": {
          "base_uri": "https://localhost:8080/"
        },
        "collapsed": true,
        "id": "cwA_zoi8jwII",
        "outputId": "38cf23e2-1f04-4aab-f097-712f67d3e59f"
      },
      "outputs": [
        {
          "output_type": "stream",
          "name": "stdout",
          "text": [
            "Collecting git+https://github.com/huggingface/transformers\n",
            "  Cloning https://github.com/huggingface/transformers to /tmp/pip-req-build-6u2b08j8\n",
            "  Running command git clone --filter=blob:none --quiet https://github.com/huggingface/transformers /tmp/pip-req-build-6u2b08j8\n",
            "  Resolved https://github.com/huggingface/transformers to commit deac971c469bcbb182c2e52da0b82fb3bf54cccf\n",
            "  Installing build dependencies ... \u001b[?25l\u001b[?25hdone\n",
            "  Getting requirements to build wheel ... \u001b[?25l\u001b[?25hdone\n",
            "  Preparing metadata (pyproject.toml) ... \u001b[?25l\u001b[?25hdone\n",
            "Requirement already satisfied: accelerate in /usr/local/lib/python3.10/dist-packages (1.1.1)\n",
            "Collecting flash_attn\n",
            "  Downloading flash_attn-2.7.2.post1.tar.gz (3.1 MB)\n",
            "\u001b[2K     \u001b[90m━━━━━━━━━━━━━━━━━━━━━━━━━━━━━━━━━━━━━━━━\u001b[0m \u001b[32m3.1/3.1 MB\u001b[0m \u001b[31m26.8 MB/s\u001b[0m eta \u001b[36m0:00:00\u001b[0m\n",
            "\u001b[?25h  Preparing metadata (setup.py) ... \u001b[?25l\u001b[?25hdone\n",
            "Requirement already satisfied: filelock in /usr/local/lib/python3.10/dist-packages (from transformers==4.48.0.dev0) (3.16.1)\n",
            "Requirement already satisfied: huggingface-hub<1.0,>=0.24.0 in /usr/local/lib/python3.10/dist-packages (from transformers==4.48.0.dev0) (0.26.5)\n",
            "Requirement already satisfied: numpy>=1.17 in /usr/local/lib/python3.10/dist-packages (from transformers==4.48.0.dev0) (1.26.4)\n",
            "Requirement already satisfied: packaging>=20.0 in /usr/local/lib/python3.10/dist-packages (from transformers==4.48.0.dev0) (24.2)\n",
            "Requirement already satisfied: pyyaml>=5.1 in /usr/local/lib/python3.10/dist-packages (from transformers==4.48.0.dev0) (6.0.2)\n",
            "Requirement already satisfied: regex!=2019.12.17 in /usr/local/lib/python3.10/dist-packages (from transformers==4.48.0.dev0) (2024.9.11)\n",
            "Requirement already satisfied: requests in /usr/local/lib/python3.10/dist-packages (from transformers==4.48.0.dev0) (2.32.3)\n",
            "Collecting tokenizers<0.22,>=0.21 (from transformers==4.48.0.dev0)\n",
            "  Downloading tokenizers-0.21.0-cp39-abi3-manylinux_2_17_x86_64.manylinux2014_x86_64.whl.metadata (6.7 kB)\n",
            "Requirement already satisfied: safetensors>=0.4.1 in /usr/local/lib/python3.10/dist-packages (from transformers==4.48.0.dev0) (0.4.5)\n",
            "Requirement already satisfied: tqdm>=4.27 in /usr/local/lib/python3.10/dist-packages (from transformers==4.48.0.dev0) (4.66.6)\n",
            "Requirement already satisfied: psutil in /usr/local/lib/python3.10/dist-packages (from accelerate) (5.9.5)\n",
            "Requirement already satisfied: torch>=1.10.0 in /usr/local/lib/python3.10/dist-packages (from accelerate) (2.5.1+cu121)\n",
            "Requirement already satisfied: einops in /usr/local/lib/python3.10/dist-packages (from flash_attn) (0.8.0)\n",
            "Requirement already satisfied: fsspec>=2023.5.0 in /usr/local/lib/python3.10/dist-packages (from huggingface-hub<1.0,>=0.24.0->transformers==4.48.0.dev0) (2024.10.0)\n",
            "Requirement already satisfied: typing-extensions>=3.7.4.3 in /usr/local/lib/python3.10/dist-packages (from huggingface-hub<1.0,>=0.24.0->transformers==4.48.0.dev0) (4.12.2)\n",
            "Requirement already satisfied: networkx in /usr/local/lib/python3.10/dist-packages (from torch>=1.10.0->accelerate) (3.4.2)\n",
            "Requirement already satisfied: jinja2 in /usr/local/lib/python3.10/dist-packages (from torch>=1.10.0->accelerate) (3.1.4)\n",
            "Requirement already satisfied: sympy==1.13.1 in /usr/local/lib/python3.10/dist-packages (from torch>=1.10.0->accelerate) (1.13.1)\n",
            "Requirement already satisfied: mpmath<1.4,>=1.1.0 in /usr/local/lib/python3.10/dist-packages (from sympy==1.13.1->torch>=1.10.0->accelerate) (1.3.0)\n",
            "Requirement already satisfied: charset-normalizer<4,>=2 in /usr/local/lib/python3.10/dist-packages (from requests->transformers==4.48.0.dev0) (3.4.0)\n",
            "Requirement already satisfied: idna<4,>=2.5 in /usr/local/lib/python3.10/dist-packages (from requests->transformers==4.48.0.dev0) (3.10)\n",
            "Requirement already satisfied: urllib3<3,>=1.21.1 in /usr/local/lib/python3.10/dist-packages (from requests->transformers==4.48.0.dev0) (2.2.3)\n",
            "Requirement already satisfied: certifi>=2017.4.17 in /usr/local/lib/python3.10/dist-packages (from requests->transformers==4.48.0.dev0) (2024.8.30)\n",
            "Requirement already satisfied: MarkupSafe>=2.0 in /usr/local/lib/python3.10/dist-packages (from jinja2->torch>=1.10.0->accelerate) (3.0.2)\n",
            "Downloading tokenizers-0.21.0-cp39-abi3-manylinux_2_17_x86_64.manylinux2014_x86_64.whl (3.0 MB)\n",
            "\u001b[2K   \u001b[90m━━━━━━━━━━━━━━━━━━━━━━━━━━━━━━━━━━━━━━━━\u001b[0m \u001b[32m3.0/3.0 MB\u001b[0m \u001b[31m43.2 MB/s\u001b[0m eta \u001b[36m0:00:00\u001b[0m\n",
            "\u001b[?25hBuilding wheels for collected packages: transformers, flash_attn\n",
            "  Building wheel for transformers (pyproject.toml) ... \u001b[?25l\u001b[?25hdone\n",
            "  Created wheel for transformers: filename=transformers-4.48.0.dev0-py3-none-any.whl size=10236313 sha256=b6a8be26511691f98d0b7b740b89fbde123527760a2ed238137dbb7cd1a8ecea\n",
            "  Stored in directory: /tmp/pip-ephem-wheel-cache-cjneqfit/wheels/c0/14/d6/6c9a5582d2ac191ec0a483be151a4495fe1eb2a6706ca49f1b\n",
            "  Building wheel for flash_attn (setup.py) ... \u001b[?25l\u001b[?25hdone\n",
            "  Created wheel for flash_attn: filename=flash_attn-2.7.2.post1-cp310-cp310-linux_x86_64.whl size=190160474 sha256=0b454d9e650bfc437cc71335080172a5d05f51eab355636c9d5b7321fec7318e\n",
            "  Stored in directory: /root/.cache/pip/wheels/da/ec/5b/b2c37a8e4f755ad82492a822463bca0817f0e0e11de874b550\n",
            "Successfully built transformers flash_attn\n",
            "Installing collected packages: tokenizers, flash_attn, transformers\n",
            "  Attempting uninstall: tokenizers\n",
            "    Found existing installation: tokenizers 0.20.3\n",
            "    Uninstalling tokenizers-0.20.3:\n",
            "      Successfully uninstalled tokenizers-0.20.3\n",
            "  Attempting uninstall: transformers\n",
            "    Found existing installation: transformers 4.46.3\n",
            "    Uninstalling transformers-4.46.3:\n",
            "      Successfully uninstalled transformers-4.46.3\n",
            "Successfully installed flash_attn-2.7.2.post1 tokenizers-0.21.0 transformers-4.48.0.dev0\n",
            "Collecting qwen_vl_utils\n",
            "  Downloading qwen_vl_utils-0.0.8-py3-none-any.whl.metadata (3.6 kB)\n",
            "Collecting av\n",
            "  Downloading av-14.0.1-cp310-cp310-manylinux_2_17_x86_64.manylinux2014_x86_64.whl.metadata (4.5 kB)\n",
            "Requirement already satisfied: packaging in /usr/local/lib/python3.10/dist-packages (from qwen_vl_utils) (24.2)\n",
            "Requirement already satisfied: pillow in /usr/local/lib/python3.10/dist-packages (from qwen_vl_utils) (11.0.0)\n",
            "Requirement already satisfied: requests in /usr/local/lib/python3.10/dist-packages (from qwen_vl_utils) (2.32.3)\n",
            "Requirement already satisfied: charset-normalizer<4,>=2 in /usr/local/lib/python3.10/dist-packages (from requests->qwen_vl_utils) (3.4.0)\n",
            "Requirement already satisfied: idna<4,>=2.5 in /usr/local/lib/python3.10/dist-packages (from requests->qwen_vl_utils) (3.10)\n",
            "Requirement already satisfied: urllib3<3,>=1.21.1 in /usr/local/lib/python3.10/dist-packages (from requests->qwen_vl_utils) (2.2.3)\n",
            "Requirement already satisfied: certifi>=2017.4.17 in /usr/local/lib/python3.10/dist-packages (from requests->qwen_vl_utils) (2024.8.30)\n",
            "Downloading qwen_vl_utils-0.0.8-py3-none-any.whl (5.9 kB)\n",
            "Downloading av-14.0.1-cp310-cp310-manylinux_2_17_x86_64.manylinux2014_x86_64.whl (33.0 MB)\n",
            "\u001b[2K   \u001b[90m━━━━━━━━━━━━━━━━━━━━━━━━━━━━━━━━━━━━━━━━\u001b[0m \u001b[32m33.0/33.0 MB\u001b[0m \u001b[31m20.4 MB/s\u001b[0m eta \u001b[36m0:00:00\u001b[0m\n",
            "\u001b[?25hInstalling collected packages: av, qwen_vl_utils\n",
            "Successfully installed av-14.0.1 qwen_vl_utils-0.0.8\n"
          ]
        }
      ],
      "source": [
        "!pip install git+https://github.com/huggingface/transformers accelerate flash_attn\n",
        "!pip install qwen_vl_utils av"
      ]
    },
    {
      "cell_type": "code",
      "source": [
        "from transformers import Qwen2VLForConditionalGeneration, AutoTokenizer, AutoProcessor\n",
        "from qwen_vl_utils import process_vision_info\n",
        "import torch"
      ],
      "metadata": {
        "id": "V-lKqTIHjyh5"
      },
      "execution_count": 2,
      "outputs": []
    },
    {
      "cell_type": "code",
      "source": [
        "model_name = \"Qwen/Qwen2-VL-2B-Instruct\""
      ],
      "metadata": {
        "id": "rcre_Rfwj-yw"
      },
      "execution_count": 3,
      "outputs": []
    },
    {
      "cell_type": "code",
      "source": [
        "model = Qwen2VLForConditionalGeneration.from_pretrained(\n",
        "model_name, torch_dtype=torch.bfloat16, attn_implementation=\"eager\", device_map=\"auto\"\n",
        ")"
      ],
      "metadata": {
        "colab": {
          "base_uri": "https://localhost:8080/",
          "height": 49,
          "referenced_widgets": [
            "580ce5ff485d4ef786a14ee373eee741",
            "32b836b4285946248570f6972fa3abd6",
            "550b5e9e867e42c4b5c15f7504bac894",
            "34aa288fb8d54e15bfc2f2b4af15aee7",
            "2632814af91942218fddd4ef50aac475",
            "cdb14e37d6ea46f89500b7985f7ac956",
            "fda9b4b440be4a96885ee9fa9d598ee4",
            "616c21a5ac1449bc98234b31e257da4b",
            "28b4866cccd744628a3be916ce708fef",
            "83656042373f41299516d0db289bd537",
            "dd2b841b2e54451c8f0e31c38fa41622"
          ]
        },
        "id": "79RZiF5okPkr",
        "outputId": "1d4e97d0-2868-4eea-f913-577858fe0f5c"
      },
      "execution_count": 14,
      "outputs": [
        {
          "output_type": "display_data",
          "data": {
            "text/plain": [
              "Loading checkpoint shards:   0%|          | 0/2 [00:00<?, ?it/s]"
            ],
            "application/vnd.jupyter.widget-view+json": {
              "version_major": 2,
              "version_minor": 0,
              "model_id": "580ce5ff485d4ef786a14ee373eee741"
            }
          },
          "metadata": {}
        }
      ]
    },
    {
      "cell_type": "code",
      "source": [
        "processor = AutoProcessor.from_pretrained(model_name)"
      ],
      "metadata": {
        "id": "CG1j2kAskSF6"
      },
      "execution_count": 15,
      "outputs": []
    },
    {
      "cell_type": "code",
      "source": [
        "\n",
        "messages = [\n",
        "    {\n",
        "        \"role\": \"user\",\n",
        "        \"content\": [\n",
        "            {\n",
        "                \"type\": \"video\",\n",
        "                \"video\": \"/content/3197638-hd_1920_1080_25fps.mp4\",\n",
        "                \"max_pixels\": 360 * 420,\n",
        "                \"fps\": 1.0,\n",
        "            },\n",
        "            {\"type\": \"text\", \"text\": \"HOw many doctors are there and what they are doing?.\"},\n",
        "        ],\n",
        "    }\n",
        "]"
      ],
      "metadata": {
        "id": "V51EG9_Fl6Vb"
      },
      "execution_count": 26,
      "outputs": []
    },
    {
      "cell_type": "code",
      "source": [
        "messages"
      ],
      "metadata": {
        "colab": {
          "base_uri": "https://localhost:8080/"
        },
        "id": "CaBT8IDpmFI3",
        "outputId": "4e113b55-b056-41f6-c627-c38bd4e7b59b"
      },
      "execution_count": 27,
      "outputs": [
        {
          "output_type": "execute_result",
          "data": {
            "text/plain": [
              "[{'role': 'user',\n",
              "  'content': [{'type': 'video',\n",
              "    'video': '/content/3197638-hd_1920_1080_25fps.mp4',\n",
              "    'max_pixels': 151200,\n",
              "    'fps': 1.0},\n",
              "   {'type': 'text',\n",
              "    'text': 'HOw many doctors are there and what they are doing?.'}]}]"
            ]
          },
          "metadata": {},
          "execution_count": 27
        }
      ]
    },
    {
      "cell_type": "code",
      "source": [
        "text = processor.apply_chat_template(\n",
        "    messages, tokenize=False, add_generation_prompt=True\n",
        ")"
      ],
      "metadata": {
        "id": "nBc_mWMimHSd"
      },
      "execution_count": 28,
      "outputs": []
    },
    {
      "cell_type": "code",
      "source": [],
      "metadata": {
        "id": "lonCCxthnZD5"
      },
      "execution_count": 28,
      "outputs": []
    },
    {
      "cell_type": "code",
      "source": [
        "image_inputs, video_inputs = process_vision_info(messages)\n",
        "inputs = processor(\n",
        "    text=[text],\n",
        "    images=image_inputs,\n",
        "    videos=video_inputs,\n",
        "    padding=True,\n",
        "    return_tensors=\"pt\",\n",
        ")"
      ],
      "metadata": {
        "id": "PriejXTgmJpB"
      },
      "execution_count": 29,
      "outputs": []
    },
    {
      "cell_type": "code",
      "source": [
        "inputs = inputs.to(\"cuda\")"
      ],
      "metadata": {
        "id": "46UGk_LpmL29"
      },
      "execution_count": 30,
      "outputs": []
    },
    {
      "cell_type": "code",
      "source": [
        "generated_ids = model.generate(**inputs, max_new_tokens=512)"
      ],
      "metadata": {
        "id": "7cNaNKE_mW-9"
      },
      "execution_count": 31,
      "outputs": []
    },
    {
      "cell_type": "code",
      "source": [
        "generated_ids"
      ],
      "metadata": {
        "colab": {
          "base_uri": "https://localhost:8080/"
        },
        "collapsed": true,
        "id": "_tLQOSTpmadF",
        "outputId": "6d70908e-b271-4301-d566-6267ae9901f6"
      },
      "execution_count": 32,
      "outputs": [
        {
          "output_type": "execute_result",
          "data": {
            "text/plain": [
              "tensor([[151644,   8948,    198,   2610,    525,    264,  10950,  17847,     13,\n",
              "         151645,    198, 151644,    872,    198, 151652, 151656, 151656, 151656,\n",
              "         151656, 151656, 151656, 151656, 151656, 151656, 151656, 151656, 151656,\n",
              "         151656, 151656, 151656, 151656, 151656, 151656, 151656, 151656, 151656,\n",
              "         151656, 151656, 151656, 151656, 151656, 151656, 151656, 151656, 151656,\n",
              "         151656, 151656, 151656, 151656, 151656, 151656, 151656, 151656, 151656,\n",
              "         151656, 151656, 151656, 151656, 151656, 151656, 151656, 151656, 151656,\n",
              "         151656, 151656, 151656, 151656, 151656, 151656, 151656, 151656, 151656,\n",
              "         151656, 151656, 151656, 151656, 151656, 151656, 151656, 151656, 151656,\n",
              "         151656, 151656, 151656, 151656, 151656, 151656, 151656, 151656, 151656,\n",
              "         151656, 151656, 151656, 151656, 151656, 151656, 151656, 151656, 151656,\n",
              "         151656, 151656, 151656, 151656, 151656, 151656, 151656, 151656, 151656,\n",
              "         151656, 151656, 151656, 151656, 151656, 151656, 151656, 151656, 151656,\n",
              "         151656, 151656, 151656, 151656, 151656, 151656, 151656, 151656, 151656,\n",
              "         151656, 151656, 151656, 151656, 151656, 151656, 151656, 151656, 151656,\n",
              "         151656, 151656, 151656, 151656, 151656, 151656, 151656, 151656, 151656,\n",
              "         151656, 151656, 151656, 151656, 151656, 151656, 151656, 151656, 151656,\n",
              "         151656, 151656, 151656, 151656, 151656, 151656, 151656, 151656, 151656,\n",
              "         151656, 151656, 151656, 151656, 151656, 151656, 151656, 151656, 151656,\n",
              "         151656, 151656, 151656, 151656, 151656, 151656, 151656, 151656, 151656,\n",
              "         151656, 151656, 151656, 151656, 151656, 151656, 151656, 151656, 151656,\n",
              "         151656, 151656, 151656, 151656, 151656, 151656, 151656, 151656, 151656,\n",
              "         151656, 151656, 151656, 151656, 151656, 151656, 151656, 151656, 151656,\n",
              "         151656, 151656, 151656, 151656, 151656, 151656, 151656, 151656, 151656,\n",
              "         151656, 151656, 151656, 151656, 151656, 151656, 151656, 151656, 151656,\n",
              "         151656, 151656, 151656, 151656, 151656, 151656, 151656, 151656, 151656,\n",
              "         151656, 151656, 151656, 151656, 151656, 151656, 151656, 151656, 151656,\n",
              "         151656, 151656, 151656, 151656, 151656, 151656, 151656, 151656, 151656,\n",
              "         151656, 151656, 151656, 151656, 151656, 151656, 151656, 151656, 151656,\n",
              "         151656, 151656, 151656, 151656, 151656, 151656, 151656, 151656, 151656,\n",
              "         151656, 151656, 151656, 151656, 151656, 151656, 151656, 151656, 151656,\n",
              "         151656, 151656, 151656, 151656, 151656, 151656, 151656, 151656, 151656,\n",
              "         151656, 151656, 151656, 151656, 151656, 151656, 151656, 151656, 151656,\n",
              "         151656, 151656, 151656, 151656, 151656, 151656, 151656, 151656, 151656,\n",
              "         151656, 151656, 151656, 151656, 151656, 151656, 151656, 151656, 151656,\n",
              "         151656, 151656, 151656, 151656, 151656, 151656, 151656, 151656, 151656,\n",
              "         151656, 151656, 151656, 151656, 151656, 151656, 151656, 151656, 151656,\n",
              "         151656, 151656, 151656, 151656, 151656, 151656, 151656, 151656, 151656,\n",
              "         151656, 151656, 151656, 151656, 151656, 151656, 151656, 151656, 151656,\n",
              "         151656, 151656, 151656, 151656, 151656, 151656, 151656, 151656, 151656,\n",
              "         151656, 151656, 151656, 151656, 151656, 151656, 151656, 151656, 151656,\n",
              "         151656, 151656, 151656, 151656, 151656, 151656, 151656, 151656, 151656,\n",
              "         151656, 151656, 151656, 151656, 151656, 151656, 151656, 151656, 151656,\n",
              "         151656, 151656, 151656, 151656, 151656, 151656, 151656, 151656, 151656,\n",
              "         151656, 151656, 151656, 151656, 151656, 151656, 151656, 151656, 151656,\n",
              "         151656, 151656, 151656, 151656, 151656, 151656, 151656, 151656, 151656,\n",
              "         151656, 151656, 151656, 151656, 151656, 151656, 151656, 151656, 151656,\n",
              "         151656, 151656, 151656, 151656, 151656, 151656, 151656, 151656, 151656,\n",
              "         151656, 151656, 151656, 151656, 151656, 151656, 151656, 151656, 151656,\n",
              "         151656, 151656, 151656, 151656, 151656, 151656, 151656, 151656, 151656,\n",
              "         151656, 151656, 151656, 151656, 151656, 151656, 151656, 151656, 151656,\n",
              "         151656, 151656, 151656, 151656, 151656, 151656, 151656, 151656, 151656,\n",
              "         151656, 151656, 151656, 151656, 151656, 151656, 151656, 151656, 151656,\n",
              "         151656, 151656, 151656, 151656, 151656, 151656, 151656, 151656, 151656,\n",
              "         151656, 151656, 151656, 151656, 151656, 151656, 151656, 151656, 151656,\n",
              "         151656, 151656, 151656, 151656, 151656, 151656, 151656, 151656, 151656,\n",
              "         151656, 151656, 151656, 151656, 151656, 151656, 151656, 151656, 151656,\n",
              "         151656, 151656, 151656, 151656, 151656, 151656, 151656, 151656, 151656,\n",
              "         151656, 151656, 151656, 151656, 151656, 151656, 151656, 151656, 151656,\n",
              "         151656, 151656, 151656, 151656, 151656, 151656, 151656, 151656, 151656,\n",
              "         151656, 151656, 151656, 151656, 151656, 151656, 151656, 151656, 151656,\n",
              "         151656, 151656, 151656, 151656, 151656, 151656, 151656, 151656, 151656,\n",
              "         151656, 151656, 151656, 151656, 151656, 151656, 151656, 151656, 151656,\n",
              "         151656, 151656, 151656, 151656, 151656, 151656, 151656, 151656, 151656,\n",
              "         151656, 151656, 151656, 151656, 151656, 151656, 151656, 151656, 151656,\n",
              "         151656, 151656, 151656, 151656, 151656, 151656, 151656, 151656, 151656,\n",
              "         151656, 151656, 151656, 151656, 151656, 151656, 151656, 151656, 151656,\n",
              "         151656, 151656, 151656, 151656, 151656, 151656, 151656, 151656, 151656,\n",
              "         151656, 151656, 151656, 151656, 151656, 151656, 151656, 151656, 151656,\n",
              "         151656, 151656, 151656, 151656, 151656, 151656, 151656, 151656, 151656,\n",
              "         151656, 151656, 151656, 151656, 151656, 151656, 151656, 151656, 151656,\n",
              "         151656, 151656, 151656, 151656, 151656, 151656, 151656, 151656, 151656,\n",
              "         151656, 151656, 151656, 151656, 151656, 151656, 151656, 151656, 151656,\n",
              "         151656, 151656, 151656, 151656, 151656, 151656, 151656, 151656, 151656,\n",
              "         151656, 151656, 151656, 151656, 151656, 151656, 151656, 151656, 151656,\n",
              "         151656, 151656, 151656, 151656, 151656, 151656, 151656, 151656, 151656,\n",
              "         151656, 151656, 151656, 151656, 151656, 151656, 151656, 151656, 151656,\n",
              "         151656, 151656, 151656, 151656, 151656, 151656, 151656, 151656, 151656,\n",
              "         151656, 151656, 151656, 151656, 151656, 151656, 151656, 151656, 151656,\n",
              "         151656, 151656, 151656, 151656, 151656, 151656, 151656, 151656, 151656,\n",
              "         151656, 151656, 151656, 151656, 151656, 151656, 151656, 151656, 151656,\n",
              "         151656, 151656, 151656, 151656, 151656, 151656, 151656, 151656, 151656,\n",
              "         151656, 151656, 151656, 151656, 151656, 151656, 151656, 151656, 151656,\n",
              "         151656, 151656, 151656, 151656, 151656, 151656, 151656, 151656, 151656,\n",
              "         151656, 151656, 151656, 151656, 151656, 151656, 151656, 151656, 151656,\n",
              "         151656, 151656, 151656, 151656, 151656, 151656, 151656, 151656, 151656,\n",
              "         151656, 151656, 151656, 151656, 151656, 151656, 151656, 151656, 151656,\n",
              "         151656, 151656, 151656, 151656, 151656, 151656, 151656, 151656, 151656,\n",
              "         151656, 151656, 151656, 151656, 151656, 151656, 151656, 151656, 151656,\n",
              "         151656, 151656, 151656, 151656, 151656, 151656, 151656, 151656, 151656,\n",
              "         151656, 151656, 151656, 151656, 151656, 151656, 151656, 151656, 151656,\n",
              "         151656, 151656, 151656, 151656, 151656, 151656, 151656, 151656, 151656,\n",
              "         151656, 151656, 151656, 151656, 151656, 151656, 151656, 151656, 151656,\n",
              "         151656, 151656, 151656, 151656, 151656, 151656, 151656, 151656, 151656,\n",
              "         151656, 151656, 151656, 151656, 151656, 151656, 151656, 151656, 151656,\n",
              "         151656, 151656, 151656, 151656, 151656, 151656, 151656, 151656, 151656,\n",
              "         151656, 151656, 151656, 151656, 151656, 151656, 151656, 151656, 151656,\n",
              "         151656, 151656, 151656, 151656, 151656, 151656, 151656, 151656, 151656,\n",
              "         151656, 151656, 151656, 151656, 151656, 151656, 151656, 151656, 151656,\n",
              "         151656, 151656, 151656, 151656, 151656, 151656, 151656, 151656, 151656,\n",
              "         151656, 151656, 151656, 151656, 151656, 151656, 151656, 151656, 151656,\n",
              "         151656, 151656, 151656, 151656, 151656, 151656, 151653,  23818,     86,\n",
              "           1657,  16026,    525,   1052,    323,   1128,    807,    525,   3730,\n",
              "           4607, 151645,    198, 151644,  77091,    198,   3862,    525,   3040,\n",
              "          16026,    304,    279,   2168,     13,   2379,    525,  11259,    304,\n",
              "            264,   8777,   3054,     11,  10767,  20045,    369,    476,  44971,\n",
              "            264,   6457,  10324,     13, 151645]], device='cuda:0')"
            ]
          },
          "metadata": {},
          "execution_count": 32
        }
      ]
    },
    {
      "cell_type": "code",
      "source": [
        "generated_ids_trimmed = [\n",
        "    out_ids[len(in_ids) :] for in_ids, out_ids in zip(inputs.input_ids, generated_ids)\n",
        "]"
      ],
      "metadata": {
        "id": "vaUWweLLoVwQ"
      },
      "execution_count": 33,
      "outputs": []
    },
    {
      "cell_type": "code",
      "source": [
        "output_text = processor.batch_decode(\n",
        "    generated_ids_trimmed, skip_special_tokens=True, clean_up_tokenization_spaces=False\n",
        ")\n",
        ""
      ],
      "metadata": {
        "id": "oupaaaiZoqqz"
      },
      "execution_count": 34,
      "outputs": []
    },
    {
      "cell_type": "code",
      "source": [
        "print(output_text)"
      ],
      "metadata": {
        "colab": {
          "base_uri": "https://localhost:8080/"
        },
        "id": "ZJkCnozaotvQ",
        "outputId": "69984377-f6ac-4856-ffb4-de48fd7ee5f6"
      },
      "execution_count": 35,
      "outputs": [
        {
          "output_type": "stream",
          "name": "stdout",
          "text": [
            "['There are four doctors in the image. They are standing in a hospital room, possibly preparing for or observing a medical procedure.']\n"
          ]
        }
      ]
    },
    {
      "cell_type": "code",
      "source": [],
      "metadata": {
        "id": "TFhIrXRbov5H"
      },
      "execution_count": null,
      "outputs": []
    }
  ]
}